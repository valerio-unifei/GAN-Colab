{
  "nbformat": 4,
  "nbformat_minor": 0,
  "metadata": {
    "colab": {
      "name": "Advanced-GAN.ipynb",
      "provenance": [],
      "authorship_tag": "ABX9TyOqu5WJxd0ius72UB6ggHwh",
      "include_colab_link": true
    },
    "kernelspec": {
      "name": "python3",
      "display_name": "Python 3"
    }
  },
  "cells": [
    {
      "cell_type": "markdown",
      "metadata": {
        "id": "view-in-github",
        "colab_type": "text"
      },
      "source": [
        "<a href=\"https://colab.research.google.com/github/valerio-unifei/GAN-Colab/blob/main/Advanced_GAN.ipynb\" target=\"_parent\"><img src=\"https://colab.research.google.com/assets/colab-badge.svg\" alt=\"Open In Colab\"/></a>"
      ]
    },
    {
      "cell_type": "code",
      "metadata": {
        "id": "4vTSKrhpcJJ_"
      },
      "source": [
        "import torch\r\n",
        "from torch import nn # rede neural\r\n",
        "import math\r\n",
        "import matplotlib.pyplot as plt # gráfico\r\n",
        "\r\n",
        "torch.manual_seed(111) # semente fixa no treinamento\r\n",
        "\r\n",
        "# Classe de discriminação da saida gerada\r\n",
        "class Discriminator(nn.Module):\r\n",
        "    def __init__(self):\r\n",
        "        super().__init__()\r\n",
        "        self.model = nn.Sequential(\r\n",
        "            nn.Linear(2, 256), \r\n",
        "            nn.ReLU(), \r\n",
        "            nn.Dropout(0.3), \r\n",
        "            nn.Linear(256, 128),\r\n",
        "            nn.ReLU(), \r\n",
        "            nn.Dropout(0.3), \r\n",
        "            nn.Linear(128, 64), \r\n",
        "            nn.ReLU(),\r\n",
        "            nn.Dropout(0.3), \r\n",
        "            nn.Linear(64, 1), \r\n",
        "            nn.Sigmoid(),\r\n",
        "        )\r\n",
        "\r\n",
        "    def forward(self, x):\r\n",
        "        output = self.model(x)\r\n",
        "        return output\r\n",
        "\r\n",
        "discriminator = Discriminator() # objeto discriminador\r\n",
        "\r\n"
      ],
      "execution_count": null,
      "outputs": []
    }
  ]
}